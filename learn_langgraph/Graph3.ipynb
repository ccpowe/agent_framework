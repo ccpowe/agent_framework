{
 "cells": [
  {
   "cell_type": "code",
   "execution_count": 1,
   "id": "fe7fea39",
   "metadata": {},
   "outputs": [],
   "source": [
    "from langgraph.graph import StateGraph\n",
    "from typing import TypedDict,List"
   ]
  },
  {
   "cell_type": "code",
   "execution_count": 2,
   "id": "a24d720e",
   "metadata": {},
   "outputs": [],
   "source": [
    "class AgentState(TypedDict):\n",
    "    name: str\n",
    "    age: int\n",
    "    skills: List[int]\n",
    "    result: str"
   ]
  },
  {
   "cell_type": "code",
   "execution_count": 3,
   "id": "3c094ff1",
   "metadata": {},
   "outputs": [],
   "source": [
    "def greet(state:AgentState):\n",
    "    \"\"\"根据用户的名称生成问候语\"\"\"\n",
    "    state['result'] = f\"hi there {state['name']}!\"\n",
    "    return state\n",
    "\n",
    "def age_check(state:AgentState):\n",
    "    \"\"\"检查用户的年龄是否合法\"\"\"\n",
    "    if state['age'] < 18:\n",
    "        state['result'] = state['result'] + \"you are too young\"\n",
    "    else:\n",
    "        state['result'] = state['result'] + \"you are old enough\"\n",
    "    return state\n",
    "\n",
    "def skill_check(state:AgentState):\n",
    "    \"\"\"描述用户的技能\"\"\"\n",
    "    state['result'] = state['result'] + f\"your skills are {state['skills']}\"\n",
    "    \n",
    "    return state\n",
    "    "
   ]
  },
  {
   "cell_type": "code",
   "execution_count": 6,
   "id": "3519ddfb",
   "metadata": {},
   "outputs": [],
   "source": [
    "graph = StateGraph(AgentState)\n",
    "graph.add_node(\"greet\", greet)\n",
    "graph.add_node(\"age_check\", age_check)\n",
    "graph.add_node(\"skill_check\", skill_check)\n",
    "graph.set_entry_point(\"greet\")\n",
    "graph.add_edge(\"greet\", \"age_check\")\n",
    "graph.add_edge(\"age_check\", \"skill_check\")\n",
    "graph.set_finish_point(\"skill_check\")\n",
    "app = graph.compile()"
   ]
  },
  {
   "cell_type": "code",
   "execution_count": 7,
   "id": "16e47197",
   "metadata": {},
   "outputs": [
    {
     "data": {
      "image/png": "[encoded data removed]",
      "text/plain": [
       "<IPython.core.display.Image object>"
      ]
     },
     "metadata": {},
     "output_type": "display_data"
    }
   ],
   "source": [
    "from IPython.display import display, Image\n",
    "display(Image(app.get_graph().draw_mermaid_png()))"
   ]
  },
  {
   "cell_type": "code",
   "execution_count": 8,
   "id": "04a5829f",
   "metadata": {},
   "outputs": [
    {
     "name": "stdout",
     "output_type": "stream",
     "text": [
      "{'name': 'John', 'age': 20, 'skills': ['python', 'java', 'c++'], 'result': \"hi there John!you are old enoughyour skills are ['python', 'java', 'c++']\"}\n"
     ]
    }
   ],
   "source": [
    "result = app.invoke({\n",
    "    \"name\": \"John\",\n",
    "    \"age\": 20,\n",
    "    \"skills\": [\"python\", \"java\", \"c++\"],\n",
    "})\n",
    "\n",
    "print(result)\n"
   ]
  },
  {
   "cell_type": "code",
   "execution_count": null,
   "id": "3eaf5d64",
   "metadata": {},
   "outputs": [],
   "source": []
  }
 ],
 "metadata": {
  "kernelspec": {
   "display_name": ".venv",
   "language": "python",
   "name": "python3"
  },
  "language_info": {
   "codemirror_mode": {
    "name": "ipython",
    "version": 3
   },
   "file_extension": ".py",
   "mimetype": "text/x-python",
   "name": "python",
   "nbconvert_exporter": "python",
   "pygments_lexer": "ipython3",
   "version": "3.13.2"
  }
 },
 "nbformat": 4,
 "nbformat_minor": 5
}
