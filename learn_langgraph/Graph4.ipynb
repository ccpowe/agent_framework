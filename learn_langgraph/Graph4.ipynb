{
 "cells": [
  {
   "cell_type": "code",
   "execution_count": 1,
   "id": "a2363349",
   "metadata": {},
   "outputs": [],
   "source": [
    "from langgraph.graph import StateGraph,START,END\n",
    "from typing import TypedDict,List"
   ]
  },
  {
   "cell_type": "code",
   "execution_count": 3,
   "id": "2bf2fbbc",
   "metadata": {},
   "outputs": [],
   "source": [
    "class AgentState(TypedDict):\n",
    "    number1: int\n",
    "    number2: int\n",
    "    number3: int\n",
    "    number4: int\n",
    "    operator1: str\n",
    "    operator2: str\n",
    "    result: str"
   ]
  },
  {
   "cell_type": "code",
   "execution_count": null,
   "id": "f66c82a8",
   "metadata": {},
   "outputs": [],
   "source": [
    "def add_node1(state:AgentState) -> AgentState:\n",
    "    state['result'] = f\"there is add_node1 and result is {state['number1']} + {state['number2']} operator is {state['operator1']}\"\n",
    "    return state\n",
    "\n",
    "def add_node2(state:AgentState) -> AgentState:\n",
    "    state['result'] = state['result'] + f\"there is add_node2 and result is {state['number3']} + {state['number4']} operator is {state['operator2']}\"\n",
    "    return state\n",
    "\n",
    "def sub_node1(state:AgentState) -> AgentState:\n",
    "    state['result'] = state['result'] + f\"there is sub_node1 and result is {state['number1']} - {state['number2']} operator is {state['operator1']}\"\n",
    "    return state\n",
    "\n",
    "def sub_node2(state:AgentState) -> AgentState:\n",
    "    state['result'] = state['result'] + f\"there is sub_node2 and result is {state['number3']} - {state['number4']} operator is {state['operator2']}\"\n",
    "    return state\n",
    "\n",
    "def router1(state:AgentState) -> str:\n",
    "    if state['operator1'] == \"+\":\n",
    "        return \"add_node1\"\n",
    "    elif state['operator1'] == \"-\":\n",
    "        return \"sub_node1\"\n",
    "    else:\n",
    "        return \"please input + or -\"\n",
    "\n",
    "def router2(state:AgentState) -> str:\n",
    "    if state['operator2'] == \"+\":\n",
    "        return \"add_node2\"\n",
    "    elif state['operator2'] == \"-\":\n",
    "        return \"sub_node2\"\n",
    "    else:\n",
    "        return \"please input + or -\"\n",
    "    "
   ]
  },
  {
   "cell_type": "code",
   "execution_count": 21,
   "id": "797d88e7",
   "metadata": {},
   "outputs": [],
   "source": [
    "graph = StateGraph(AgentState)\n",
    "graph.add_node(\"add_node1\", add_node1)\n",
    "graph.add_node(\"add_node2\", add_node2)\n",
    "graph.add_node(\"sub_node1\", sub_node1)\n",
    "graph.add_node(\"sub_node2\", sub_node2)\n",
    "graph.add_node(\"router1\", lambda state:state)\n",
    "graph.add_node(\"router2\", lambda state:state)\n",
    "graph.add_edge(START, \"router1\")\n",
    "graph.add_conditional_edges(\n",
    "    \"router1\",\n",
    "    router1,\n",
    "    {\n",
    "        \"add_node1\": \"add_node1\",\n",
    "        \"sub_node1\": \"sub_node1\"\n",
    "    }\n",
    ")\n",
    "graph.add_edge(\"add_node1\", \"router2\")\n",
    "graph.add_edge(\"sub_node1\", \"router2\")\n",
    "graph.add_conditional_edges(\n",
    "    \"router2\",\n",
    "    router2,\n",
    "    {\n",
    "        \"add_node2\": \"add_node2\",\n",
    "        \"sub_node2\": \"sub_node2\"\n",
    "    }\n",
    ")\n",
    "graph.add_edge(\"add_node2\", END)\n",
    "graph.add_edge(\"sub_node2\", END)\n",
    "app = graph.compile()"
   ]
  },
  {
   "cell_type": "code",
   "execution_count": 22,
   "id": "566b1ca9",
   "metadata": {},
   "outputs": [
    {
     "data": {
      "image/png": "[encoded data removed]",
      "text/plain": [
       "<IPython.core.display.Image object>"
      ]
     },
     "metadata": {},
     "output_type": "display_data"
    }
   ],
   "source": [
    "from IPython.display import display, Image\n",
    "display(Image(app.get_graph().draw_mermaid_png()))"
   ]
  },
  {
   "cell_type": "code",
   "execution_count": 23,
   "id": "3286c561",
   "metadata": {},
   "outputs": [
    {
     "name": "stdout",
     "output_type": "stream",
     "text": [
      "{'number1': 10, 'number2': 5, 'number3': 7, 'number4': 5, 'operator1': '+', 'operator2': '-', 'result': 'there is add_node1 and result is 10 + 5 operator is +there is sub_node2 and result is 7 - 5 operator is -'}\n"
     ]
    }
   ],
   "source": [
    "require = app.invoke({\"number1\":10,\"number2\":5,\"operator1\":\"+\",\"number3\":7,\"number4\":5,\"operator2\":\"-\"})\n",
    "print(require)\n"
   ]
  },
  {
   "cell_type": "code",
   "execution_count": null,
   "id": "85627b99",
   "metadata": {},
   "outputs": [],
   "source": []
  }
 ],
 "metadata": {
  "kernelspec": {
   "display_name": ".venv",
   "language": "python",
   "name": "python3"
  },
  "language_info": {
   "codemirror_mode": {
    "name": "ipython",
    "version": 3
   },
   "file_extension": ".py",
   "mimetype": "text/x-python",
   "name": "python",
   "nbconvert_exporter": "python",
   "pygments_lexer": "ipython3",
   "version": "3.13.2"
  }
 },
 "nbformat": 4,
 "nbformat_minor": 5
}
