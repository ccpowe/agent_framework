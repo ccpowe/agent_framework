{
 "cells": [
  {
   "cell_type": "code",
   "execution_count": 94,
   "id": "09a07469",
   "metadata": {},
   "outputs": [],
   "source": [
    "from langgraph.graph import StateGraph,START,END\n",
    "from typing import TypedDict"
   ]
  },
  {
   "cell_type": "code",
   "execution_count": 95,
   "id": "a21d9c2e",
   "metadata": {},
   "outputs": [],
   "source": [
    "class AgentState(TypedDict):\n",
    "    number1: int\n",
    "    number2: int\n",
    "    sum_num: int\n",
    "    "
   ]
  },
  {
   "cell_type": "code",
   "execution_count": null,
   "id": "84fdc15e",
   "metadata": {},
   "outputs": [],
   "source": [
    "\n",
    "def sub_node(state: AgentState) -> AgentState:\n",
    "    state['sum_num'] = state['sum_num'] - state['number1'] - state['number2']\n",
    "    return state\n",
    "\n",
    "def random_node(state: AgentState) -> str:\n",
    "    if state['sum_num'] >0:\n",
    "        return 'loop_sub_node'\n",
    "    else:\n",
    "        return \"end\""
   ]
  },
  {
   "cell_type": "code",
   "execution_count": 97,
   "id": "9e61bc9e",
   "metadata": {},
   "outputs": [],
   "source": [
    "graph = StateGraph(AgentState)\n",
    "graph.add_node('sub_node', sub_node)\n",
    "# random_node 不应该被添加为节点，因为它是一个条件函数\n",
    "# graph.add_node('random_node', random_node)\n",
    "\n",
    "graph.add_edge(START, 'sub_node')\n",
    "\n",
    "# 将条件边的起点从 'random_node' 改为 'sub_node'\n",
    "# 在 sub_node 执行完毕后，调用 random_node 函数来决定下一个走向\n",
    "graph.add_conditional_edges(\n",
    "    'sub_node',  # 条件判断的起点\n",
    "    random_node, # 判断函数\n",
    "    {\n",
    "        \"loop_sub_node\": \"sub_node\", # 如果返回 \"sub_node\"，则再次调用 sub_node\n",
    "        \"end\": END              # 如果返回 \"end\"，则结束\n",
    "    }\n",
    ")\n",
    "app = graph.compile()"
   ]
  },
  {
   "cell_type": "code",
   "execution_count": 98,
   "id": "36257510",
   "metadata": {},
   "outputs": [
    {
     "data": {
      "image/png": "[encoded data removed]",
      "text/plain": [
       "<IPython.core.display.Image object>"
      ]
     },
     "metadata": {},
     "output_type": "display_data"
    }
   ],
   "source": [
    "from IPython.display import display, Image\n",
    "display(Image(app.get_graph().draw_mermaid_png()))"
   ]
  },
  {
   "cell_type": "code",
   "execution_count": 99,
   "id": "fac2faf3",
   "metadata": {},
   "outputs": [
    {
     "name": "stdout",
     "output_type": "stream",
     "text": [
      "{'number1': 1, 'number2': 2, 'sum_num': -2}\n"
     ]
    }
   ],
   "source": [
    "require = app.invoke({\"number1\": 1, \"number2\": 2,\"sum_num\":10})\n",
    "print(require)"
   ]
  },
  {
   "cell_type": "markdown",
   "id": "bf725045",
   "metadata": {},
   "source": [
    "## guess number game"
   ]
  },
  {
   "cell_type": "code",
   "execution_count": 54,
   "id": "c67e7cf0",
   "metadata": {},
   "outputs": [],
   "source": [
    "from langgraph.graph import END, StateGraph,START\n",
    "from typing import TypedDict\n",
    "import random"
   ]
  },
  {
   "cell_type": "code",
   "execution_count": 60,
   "id": "7a2903b3",
   "metadata": {},
   "outputs": [],
   "source": [
    "class AgentState(TypedDict):\n",
    "    guess_number:int\n",
    "    user_input:int\n",
    "    system_feeback:str\n",
    "    attempts:int\n",
    "    low:int\n",
    "    high:int\n",
    "    user_name:str\n",
    "    result:str\n",
    "\n",
    "    "
   ]
  },
  {
   "cell_type": "code",
   "execution_count": 72,
   "id": "97f20318",
   "metadata": {},
   "outputs": [],
   "source": [
    "def setup(state: AgentState) -> AgentState:\n",
    "    state[\"guess_number\"] = random.randint(state[\"low\"], state[\"high\"])\n",
    "    state[\"attempts\"] = 0\n",
    "    state[\"system_feeback\"] = \"game start\"\n",
    "    print(\"game start\")\n",
    "    return state\n",
    "\n",
    "def guess(state: AgentState) -> AgentState:\n",
    "    state[\"user_input\"] = int(input(\"guess a number: \"))\n",
    "    if state[\"attempts\"] >= 10:\n",
    "        state[\"system_feeback\"] = \"you lose\"\n",
    "        state[\"result\"] = f\"sorr {state['user_name']} you lose, the number is {state['guess_number']}, you have {state['attempts']} attempts\"\n",
    "        print(state[\"result\"])\n",
    "        return state\n",
    "    elif state[\"user_input\"] == state[\"guess_number\"]:\n",
    "        state[\"system_feeback\"] = \"you win\"\n",
    "        state[\"result\"] = f\"congratulations {state['user_name']} you win, the number is {state['guess_number']}, you have {state['attempts']} attempts\"\n",
    "        print(state[\"result\"])\n",
    "        return state\n",
    "    elif state[\"user_input\"] < state[\"guess_number\"]:\n",
    "        state[\"system_feeback\"] = f\"{state['user_input']} is too small\"\n",
    "        print(state[\"system_feeback\"])\n",
    "        state[\"attempts\"] += 1\n",
    "        return state\n",
    "    elif state[\"user_input\"] > state[\"guess_number\"]:\n",
    "        state[\"system_feeback\"] = f\"{state['user_input']} is too big\"\n",
    "        print(state[\"system_feeback\"])\n",
    "        state[\"attempts\"] += 1\n",
    "        return state\n",
    "\n",
    "def loop(state: AgentState) -> AgentState:\n",
    "    if state[\"system_feeback\"] == \"you win\" or state[\"system_feeback\"] == \"you lose\":\n",
    "        return \"end\"\n",
    "    else:\n",
    "        return \"guess\"\n",
    "    \n"
   ]
  },
  {
   "cell_type": "code",
   "execution_count": 76,
   "id": "9c6cb790",
   "metadata": {},
   "outputs": [],
   "source": [
    "\n",
    "graph = StateGraph(AgentState)\n",
    "\n",
    "graph.add_node(\"setup\", setup)\n",
    "graph.add_node(\"guess\",guess)\n",
    "# graph.add_node(\"loop_guess\",lambda state: state)\n",
    "graph.add_edge(START,\"setup\")\n",
    "graph.add_edge(\"setup\",\"guess\")\n",
    "# graph.add_edge(\"guess\",\"loop_guess\")\n",
    "# graph.add_conditional_edges(\"loop_guess\",loop,{\"guess\":\"guess\",\"end\":END})\n",
    "graph.add_conditional_edges(\"guess\",loop,{\"guess\":\"guess\",\"end\":END})\n",
    "\n",
    "app=graph.compile()\n",
    "\n"
   ]
  },
  {
   "cell_type": "code",
   "execution_count": 77,
   "id": "1547e4ad",
   "metadata": {},
   "outputs": [
    {
     "data": {
      "image/png": "[encoded data removed]",
      "text/plain": [
       "<IPython.core.display.Image object>"
      ]
     },
     "metadata": {},
     "output_type": "display_data"
    }
   ],
   "source": [
    "from IPython.display import display, Image\n",
    "display(Image(app.get_graph().draw_mermaid_png()))"
   ]
  },
  {
   "cell_type": "code",
   "execution_count": 71,
   "id": "f1959f0c",
   "metadata": {},
   "outputs": [
    {
     "name": "stdout",
     "output_type": "stream",
     "text": [
      "game start\n",
      "50 is too big\n",
      "30 is too small\n",
      "40 is too small\n",
      "45 is too small\n",
      "48 is too big\n",
      "congratulations John you win, the number is 46, you have 5 attempts\n"
     ]
    }
   ],
   "source": [
    "result = app.invoke({\"user_name\": \"John\",\"low\": 1,\"high\": 100})"
   ]
  },
  {
   "cell_type": "code",
   "execution_count": null,
   "id": "f637e463",
   "metadata": {},
   "outputs": [],
   "source": []
  }
 ],
 "metadata": {
  "kernelspec": {
   "display_name": ".venv",
   "language": "python",
   "name": "python3"
  },
  "language_info": {
   "codemirror_mode": {
    "name": "ipython",
    "version": 3
   },
   "file_extension": ".py",
   "mimetype": "text/x-python",
   "name": "python",
   "nbconvert_exporter": "python",
   "pygments_lexer": "ipython3",
   "version": "3.13.2"
  }
 },
 "nbformat": 4,
 "nbformat_minor": 5
}
